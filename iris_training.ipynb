{
  "nbformat": 4,
  "nbformat_minor": 0,
  "metadata": {
    "colab": {
      "provenance": [],
      "machine_shape": "hm",
      "gpuType": "T4"
    },
    "kernelspec": {
      "name": "python3",
      "display_name": "Python 3"
    },
    "language_info": {
      "name": "python"
    }
  },
  "cells": [
    {
      "cell_type": "code",
      "execution_count": 3,
      "metadata": {
        "colab": {
          "base_uri": "https://localhost:8080/"
        },
        "id": "Ykl9h9U_K2O1",
        "outputId": "1dc68feb-87f8-4bc2-8304-876749d8dc07"
      },
      "outputs": [
        {
          "output_type": "stream",
          "name": "stdout",
          "text": [
            "val accuracy: 0.9333333333333333\n",
            "              precision    recall  f1-score   support\n",
            "\n",
            "      setosa       1.00      1.00      1.00        10\n",
            "  versicolor       0.90      0.90      0.90        10\n",
            "   virginica       0.90      0.90      0.90        10\n",
            "\n",
            "    accuracy                           0.93        30\n",
            "   macro avg       0.93      0.93      0.93        30\n",
            "weighted avg       0.93      0.93      0.93        30\n",
            "\n",
            "Model saved to model.joblib\n",
            "-rw-r--r-- 1 root root 2.2K Sep 10 19:53 model.joblib\n"
          ]
        },
        {
          "output_type": "stream",
          "name": "stderr",
          "text": [
            "/usr/local/lib/python3.12/dist-packages/sklearn/linear_model/_logistic.py:1247: FutureWarning: 'multi_class' was deprecated in version 1.5 and will be removed in 1.7. From then on, it will always use 'multinomial'. Leave it to its default value to avoid this warning.\n",
            "  warnings.warn(\n"
          ]
        }
      ],
      "source": [
        "# 1. Install libs\n",
        "!pip -q install scikit-learn joblib pandas numpy\n",
        "\n",
        "# 2. Train a tiny model on Iris\n",
        "from sklearn.datasets import load_iris\n",
        "from sklearn.model_selection import train_test_split\n",
        "from sklearn.preprocessing import StandardScaler\n",
        "from sklearn.pipeline import Pipeline\n",
        "from sklearn.linear_model import LogisticRegression\n",
        "from sklearn.metrics import accuracy_score, classification_report\n",
        "import joblib, os\n",
        "import numpy as np\n",
        "\n",
        "iris = load_iris(as_frame=True)\n",
        "X, y = iris.data, iris.target\n",
        "target_names = iris.target_names\n",
        "\n",
        "Xtr, Xval, ytr, yval = train_test_split(X, y, test_size=0.2, random_state=42, stratify=y)\n",
        "\n",
        "pipe = Pipeline([\n",
        "    (\"scaler\", StandardScaler()),\n",
        "    (\"clf\", LogisticRegression(max_iter=200, multi_class=\"auto\"))\n",
        "])\n",
        "pipe.fit(Xtr, ytr)\n",
        "\n",
        "pred = pipe.predict(Xval)\n",
        "proba = pipe.predict_proba(Xval)\n",
        "print(\"val accuracy:\", accuracy_score(yval, pred))\n",
        "print(classification_report(yval, pred, target_names=target_names))\n",
        "\n",
        "# 3. Save artifact\n",
        "\n",
        "joblib.dump(\n",
        "    {\"model\": pipe, \"feature_names\": list(X.columns), \"target_names\": list(target_names)},\n",
        "    \"model.joblib\"\n",
        ")\n",
        "\n",
        "# Show confirmation\n",
        "print(\"Model saved to model.joblib\")\n",
        "!ls -lh model.joblib\n"
      ]
    }
  ]
}